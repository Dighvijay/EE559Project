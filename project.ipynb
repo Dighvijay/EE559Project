{
 "cells": [
  {
   "cell_type": "markdown",
   "metadata": {},
   "source": [
    "#  *EE559 Project Assignment* \n",
    "##  *Student Perfromance Dataset / Classification*"
   ]
  },
  {
   "cell_type": "markdown",
   "metadata": {},
   "source": [
    "###   Imports"
   ]
  },
  {
   "cell_type": "code",
   "execution_count": 46,
   "metadata": {},
   "outputs": [],
   "source": [
    "from sklearn.linear_model import Perceptron\n",
    "from sklearn.neighbors import NearestCentroid\n",
    "from sklearn.preprocessing import StandardScaler\n",
    "from sklearn.metrics import confusion_matrix\n",
    "from sklearn.metrics import f1_score\n",
    "import pandas as pd\n",
    "import numpy as np\n",
    "import matplotlib.pyplot as plt\n",
    "import random\n",
    "import seaborn as sns"
   ]
  },
  {
   "cell_type": "markdown",
   "metadata": {},
   "source": [
    "#### Functions"
   ]
  },
  {
   "cell_type": "code",
   "execution_count": 47,
   "metadata": {},
   "outputs": [],
   "source": [
    "# Fucntion to convert scores to grades\n",
    "def get_grade(score): \n",
    "    if score <= 9:\n",
    "        grade = 0 #F\n",
    "    elif 10<=score<=11:\n",
    "        grade = 1 #D\n",
    "    elif 12<=score<=13:\n",
    "        grade = 2 #C\n",
    "    elif 14<=score<=15:\n",
    "        grade = 3 #B\n",
    "    elif score>=16:\n",
    "        grade = 4 #A\n",
    "    \n",
    "    return grade\n",
    "\n",
    "# Trivial classifier - randomly outputs class labels with probability based on class priors\n",
    "def trivial_classifier(Y_train, data):\n",
    "    y_grades_train = list()\n",
    "    for i in range(len(Y_train)):\n",
    "        y_grades_train.append(get_grade(Y_train[i]))\n",
    "    y_grades_train = np.array(y_grades_train)\n",
    "    weights = [np.count_nonzero(y_grades_train == 0)/len(Y_train)*100, np.count_nonzero(y_grades_train == 1)/len(Y_train)*100,\n",
    "    np.count_nonzero(y_grades_train == 2)/len(Y_train)*100, np.count_nonzero(y_grades_train == 3)/len(Y_train)*100,\n",
    "    np.count_nonzero(y_grades_train == 4)/len(Y_train)*100]\n",
    "    y_pred = list()\n",
    "    for i in range(len(data)):\n",
    "        pred_class = 0\n",
    "        for j in range(10):\n",
    "            gradelist = [0, 1, 2, 3, 4]\n",
    "            pred_class += random.choices(gradelist, weights=weights)[0]\n",
    "        y_pred.append(round(pred_class/10))\n",
    "    return np.array(y_pred)\n",
    "\n",
    "# Baseline Model - Nearest Means Classifier\n",
    "def nearestMeansClassifier(X_train, Y_train, X_test):\n",
    "    y_grades_train = list()\n",
    "    for i in range(len(Y_train)):\n",
    "        y_grades_train.append(get_grade(Y_train[i]))\n",
    "    y_grades_train = np.array(y_grades_train)\n",
    "    clf = NearestCentroid()\n",
    "    clf.fit(X_train, y_grades_train)\n",
    "    Y_test_grades_pred = np.zeros(len(X_test))\n",
    "    for i in range(len(X_test)):\n",
    "        Y_test_grades_pred[i] = clf.predict(X_test[i].reshape(1, -1))\n",
    "    \n",
    "    return Y_test_grades_pred\n",
    "\n",
    "# Performance Measures\n",
    "def get_cf_matrix(y, y_pred):\n",
    "    cf_matrix = confusion_matrix(y, y_pred)\n",
    "    labels = ['F', 'D', 'C', 'B', 'A']\n",
    "    ax = sns.heatmap(cf_matrix, annot=True)\n",
    "    ax.set_xticklabels(labels)\n",
    "    ax.set_yticklabels(labels)\n",
    "    plt.show()\n",
    "\n",
    "    \n",
    "        "
   ]
  },
  {
   "cell_type": "markdown",
   "metadata": {},
   "source": [
    "### **Problem 1**\n",
    "- Predict first-period academic performance without any prior academic performance data: remove the G2 and G3 columns from the original dataset, then predict G1."
   ]
  },
  {
   "cell_type": "markdown",
   "metadata": {},
   "source": [
    "### Read in the data"
   ]
  },
  {
   "cell_type": "code",
   "execution_count": 48,
   "metadata": {},
   "outputs": [],
   "source": [
    "train_df = pd.read_csv('data/student_performance_test.csv')\n",
    "#dataset_train = train_df.to_numpy()"
   ]
  },
  {
   "cell_type": "code",
   "execution_count": 49,
   "metadata": {},
   "outputs": [
    {
     "data": {
      "text/plain": [
       "Index(['school', 'sex', 'age', 'address', 'famsize', 'Pstatus', 'Medu', 'Fedu',\n",
       "       'Mjob', 'Fjob', 'reason', 'guardian', 'traveltime', 'studytime',\n",
       "       'failures', 'schoolsup', 'famsup', 'paid', 'activities', 'nursery',\n",
       "       'higher', 'internet', 'romantic', 'famrel', 'freetime', 'goout', 'Dalc',\n",
       "       'Walc', 'health', 'absences', 'G1', 'G2', 'G3'],\n",
       "      dtype='object')"
      ]
     },
     "execution_count": 49,
     "metadata": {},
     "output_type": "execute_result"
    }
   ],
   "source": [
    "train_df.columns"
   ]
  },
  {
   "cell_type": "markdown",
   "metadata": {},
   "source": [
    "#### Removing categorical non-binary features and grades. "
   ]
  },
  {
   "cell_type": "code",
   "execution_count": 50,
   "metadata": {},
   "outputs": [],
   "source": [
    "selected_columns = train_df.loc[:, ~train_df.columns.isin(['Mjob', 'Fjob', 'reason', 'gaurdian', 'G1', 'G2', 'G3'])]\n",
    "binary_vals = pd.get_dummies(selected_columns)\n",
    "X_train = binary_vals.to_numpy() #Converting to numpy array for easier processing"
   ]
  },
  {
   "cell_type": "code",
   "execution_count": 51,
   "metadata": {},
   "outputs": [],
   "source": [
    "y_train = train_df.loc[:, train_df.columns.isin(['G1'])] #Rerun this cell to get back orginal values of Y_train\n",
    "Y_train = y_train['G1'].to_numpy()\n",
    "y_grades_train = list()\n",
    "for i in range(len(Y_train)):\n",
    "    y_grades_train.append(get_grade(Y_train[i]))\n",
    "y_grades_train = np.array(y_grades_train)"
   ]
  },
  {
   "cell_type": "markdown",
   "metadata": {},
   "source": [
    "#### Reading in test data and processing it"
   ]
  },
  {
   "cell_type": "code",
   "execution_count": 52,
   "metadata": {},
   "outputs": [],
   "source": [
    "test_df = pd.read_csv('data/student_performance_test.csv')\n",
    "selected_columns = test_df.loc[:, ~test_df.columns.isin(['Mjob', 'Fjob', 'reason', 'gaurdian', 'G1', 'G2', 'G3'])]\n",
    "binary_vals = pd.get_dummies(selected_columns)\n",
    "X_test = binary_vals.to_numpy()"
   ]
  },
  {
   "cell_type": "code",
   "execution_count": 53,
   "metadata": {},
   "outputs": [],
   "source": [
    "y_test = test_df.loc[:, test_df.columns.isin(['G1'])] #Rerun this cell to get back orginal values of Y_test\n",
    "Y_test = y_test['G1'].to_numpy()\n",
    "y_grades_test_actual = list()\n",
    "for i in range(len(Y_test)):\n",
    "    y_grades_test_actual.append(get_grade(Y_test[i]))\n",
    "Y_test_grades_actual = np.array(y_grades_test_actual)"
   ]
  },
  {
   "cell_type": "markdown",
   "metadata": {},
   "source": [
    "#### **Trivial System**"
   ]
  },
  {
   "cell_type": "code",
   "execution_count": 54,
   "metadata": {},
   "outputs": [
    {
     "data": {
      "image/png": "[encoded data removed]",
      "text/plain": [
       "<Figure size 432x288 with 2 Axes>"
      ]
     },
     "metadata": {
      "needs_background": "light"
     },
     "output_type": "display_data"
    },
    {
     "name": "stdout",
     "output_type": "stream",
     "text": [
      "The macro F1 score for the trivial classifier is -  0.12924485125858123\n",
      "The accuracy for the trivial classifier is -  0.245398773006135\n"
     ]
    }
   ],
   "source": [
    "Y_test_grades_pred = trivial_classifier(Y_train, X_test)\n",
    "get_cf_matrix(Y_test_grades_actual, Y_test_grades_pred) \n",
    "macro_f1_score = f1_score(Y_test_grades_actual, Y_test_grades_pred, average = 'macro')\n",
    "print(\"The macro F1 score for the trivial classifier is - \", macro_f1_score)\n",
    "accuracy = f1_score(Y_test_grades_actual, Y_test_grades_pred, average = 'micro')\n",
    "print(\"The accuracy for the trivial classifier is - \", accuracy)"
   ]
  },
  {
   "cell_type": "markdown",
   "metadata": {},
   "source": [
    "#### **Reference System - Nearest Means**"
   ]
  },
  {
   "cell_type": "code",
   "execution_count": 55,
   "metadata": {},
   "outputs": [
    {
     "data": {
      "image/png": "[encoded data removed]",
      "text/plain": [
       "<Figure size 432x288 with 2 Axes>"
      ]
     },
     "metadata": {
      "needs_background": "light"
     },
     "output_type": "display_data"
    },
    {
     "name": "stdout",
     "output_type": "stream",
     "text": [
      "The macro F1 score for the trivial classifier is -  0.25381269372066273\n",
      "The accuracy for the trivial classifier is -  0.26380368098159507\n"
     ]
    }
   ],
   "source": [
    "Y_test_grades_pred = nearestMeansClassifier(X_train, Y_train, X_test)\n",
    "get_cf_matrix(Y_test_grades_actual, Y_test_grades_pred)\n",
    "macro_f1_score = f1_score(Y_test_grades_actual, Y_test_grades_pred, average = 'macro')\n",
    "print(\"The macro F1 score for the trivial classifier is - \", macro_f1_score)\n",
    "accuracy = f1_score(Y_test_grades_actual, Y_test_grades_pred, average = 'micro')\n",
    "print(\"The accuracy for the trivial classifier is - \", accuracy)"
   ]
  },
  {
   "cell_type": "markdown",
   "metadata": {},
   "source": [
    "#### **Approach 1: K-Means Clustering**"
   ]
  },
  {
   "cell_type": "code",
   "execution_count": 56,
   "metadata": {},
   "outputs": [],
   "source": [
    "selected_columns = train_df.loc[:, ~train_df.columns.isin(['G1', 'G2', 'G3'])]\n",
    "binary_vals = pd.get_dummies(selected_columns)\n",
    "X_train = binary_vals.to_numpy()\n",
    "scaler = StandardScaler().fit(X_train)\n",
    "X_train_scaled = scaler.transform(X_train)"
   ]
  },
  {
   "cell_type": "code",
   "execution_count": 57,
   "metadata": {},
   "outputs": [
    {
     "data": {
      "text/plain": [
       "56"
      ]
     },
     "execution_count": 57,
     "metadata": {},
     "output_type": "execute_result"
    }
   ],
   "source": [
    "len(X_train_scaled[0])"
   ]
  },
  {
   "cell_type": "code",
   "execution_count": 58,
   "metadata": {},
   "outputs": [],
   "source": [
    "test_df = pd.read_csv('data/student_performance_test.csv')\n",
    "selected_columns = test_df.loc[:, ~test_df.columns.isin(['G1', 'G2', 'G3'])]\n",
    "binary_vals = pd.get_dummies(selected_columns)\n",
    "X_test = binary_vals.to_numpy()\n",
    "scaler = StandardScaler().fit(X_test)\n",
    "X_test_scaled = scaler.transform(X_test)"
   ]
  },
  {
   "cell_type": "code",
   "execution_count": 59,
   "metadata": {},
   "outputs": [],
   "source": [
    "from sklearn.cluster import KMeans\n",
    "\n",
    "kmeans = KMeans(n_clusters=5, algorithm='elkan').fit(X_train_scaled, y_grades_train)\n",
    "Y_test_grades_pred = kmeans.predict(X_test_scaled)"
   ]
  },
  {
   "cell_type": "code",
   "execution_count": 60,
   "metadata": {},
   "outputs": [
    {
     "data": {
      "image/png": "[encoded data removed]",
      "text/plain": [
       "<Figure size 432x288 with 2 Axes>"
      ]
     },
     "metadata": {
      "needs_background": "light"
     },
     "output_type": "display_data"
    },
    {
     "name": "stdout",
     "output_type": "stream",
     "text": [
      "The macro F1 score for the trivial classifier is -  0.21249172503315877\n",
      "The accuracy for the trivial classifier is -  0.245398773006135\n"
     ]
    }
   ],
   "source": [
    "get_cf_matrix(Y_test_grades_actual, Y_test_grades_pred)\n",
    "macro_f1_score = f1_score(Y_test_grades_actual, Y_test_grades_pred, average = 'macro')\n",
    "print(\"The macro F1 score for the trivial classifier is - \", macro_f1_score)\n",
    "accuracy = f1_score(Y_test_grades_actual, Y_test_grades_pred, average = 'micro')\n",
    "print(\"The accuracy for the trivial classifier is - \", accuracy)"
   ]
  },
  {
   "cell_type": "markdown",
   "metadata": {},
   "source": [
    "#### **Aproach 2 - Logistic Regression**\n",
    "Using cross-entropy loss for the traning algorithm, L2 regularization with dual formulation and saga solver."
   ]
  },
  {
   "cell_type": "code",
   "execution_count": 61,
   "metadata": {},
   "outputs": [],
   "source": [
    "selected_columns = train_df.loc[:, ~train_df.columns.isin(['G1', 'G2', 'G3'])]\n",
    "binary_vals = pd.get_dummies(selected_columns)\n",
    "X_train = binary_vals.to_numpy()\n",
    "scaler = StandardScaler().fit(X_train)\n",
    "X_train_scaled = scaler.transform(X_train)"
   ]
  },
  {
   "cell_type": "code",
   "execution_count": 62,
   "metadata": {},
   "outputs": [],
   "source": [
    "test_df = pd.read_csv('data/student_performance_test.csv')\n",
    "selected_columns = test_df.loc[:, ~test_df.columns.isin(['G1', 'G2', 'G3'])]\n",
    "binary_vals = pd.get_dummies(selected_columns)\n",
    "X_test = binary_vals.to_numpy()\n",
    "scaler = StandardScaler().fit(X_test)\n",
    "X_test_scaled = scaler.transform(X_test)"
   ]
  },
  {
   "cell_type": "code",
   "execution_count": 63,
   "metadata": {},
   "outputs": [],
   "source": [
    "from sklearn.linear_model import LogisticRegression\n",
    "\n",
    "clf = LogisticRegression(penalty='l2', random_state=0, solver='saga', max_iter= 500).fit(X_train_scaled, y_grades_train)\n",
    "Y_test_grades_pred = clf.predict(X_test_scaled)"
   ]
  },
  {
   "cell_type": "code",
   "execution_count": 64,
   "metadata": {},
   "outputs": [
    {
     "data": {
      "image/png": "[encoded data removed]",
      "text/plain": [
       "<Figure size 432x288 with 2 Axes>"
      ]
     },
     "metadata": {
      "needs_background": "light"
     },
     "output_type": "display_data"
    },
    {
     "name": "stdout",
     "output_type": "stream",
     "text": [
      "The macro F1 score for the trivial classifier is -  0.748088303337873\n",
      "The accuracy for the trivial classifier is -  0.754601226993865\n"
     ]
    }
   ],
   "source": [
    "get_cf_matrix(Y_test_grades_actual, Y_test_grades_pred)\n",
    "macro_f1_score = f1_score(Y_test_grades_actual, Y_test_grades_pred, average = 'macro')\n",
    "print(\"The macro F1 score for the trivial classifier is - \", macro_f1_score)\n",
    "accuracy = f1_score(Y_test_grades_actual, Y_test_grades_pred, average = 'micro')\n",
    "print(\"The accuracy for the trivial classifier is - \", accuracy)"
   ]
  },
  {
   "cell_type": "markdown",
   "metadata": {},
   "source": [
    "### **Problem 2**\n",
    "- Predict final-period academic performance without any prior academic performance data: remove the G1 and G2 columns from the original dataset, then predict G3."
   ]
  },
  {
   "cell_type": "markdown",
   "metadata": {},
   "source": [
    "#### Removing categorical non-binary features and grades. "
   ]
  },
  {
   "cell_type": "code",
   "execution_count": 79,
   "metadata": {},
   "outputs": [],
   "source": [
    "selected_columns = train_df.loc[:, ~train_df.columns.isin(['Mjob', 'Fjob', 'reason', 'gaurdian', 'G1', 'G2', 'G3'])]\n",
    "binary_vals = pd.get_dummies(selected_columns)\n",
    "X_train = binary_vals.to_numpy() #Converting to numpy array for easier processing\n",
    "\n",
    "y_train = train_df.loc[:, train_df.columns.isin(['G3'])] #Getting corresponding labels\n",
    "Y_train = y_train['G3'].to_numpy()\n",
    "y_grades_train = list()\n",
    "for i in range(len(Y_train)):\n",
    "    y_grades_train.append(get_grade(Y_train[i]))\n",
    "y_grades_train = np.array(y_grades_train)"
   ]
  },
  {
   "cell_type": "markdown",
   "metadata": {},
   "source": [
    "#### Reading in test data and processing it"
   ]
  },
  {
   "cell_type": "code",
   "execution_count": 80,
   "metadata": {},
   "outputs": [],
   "source": [
    "test_df = pd.read_csv('data/student_performance_test.csv')\n",
    "selected_columns = test_df.loc[:, ~test_df.columns.isin(['Mjob', 'Fjob', 'reason', 'gaurdian', 'G1', 'G2', 'G3'])]\n",
    "binary_vals = pd.get_dummies(selected_columns)\n",
    "X_test = binary_vals.to_numpy() #Converting to numpy array for easier processing\n",
    "\n",
    "y_test = test_df.loc[:, test_df.columns.isin(['G3'])] #Getting corresponding labels\n",
    "Y_test = y_test['G3'].to_numpy()\n",
    "y_grades_test_actual = list()\n",
    "for i in range(len(Y_test)):\n",
    "    y_grades_test_actual.append(get_grade(Y_test[i]))\n",
    "Y_test_grades_actual = np.array(y_grades_test_actual)"
   ]
  },
  {
   "cell_type": "markdown",
   "metadata": {},
   "source": [
    "#### **Trivial System**"
   ]
  },
  {
   "cell_type": "code",
   "execution_count": 81,
   "metadata": {},
   "outputs": [
    {
     "data": {
      "image/png": "[encoded data removed]",
      "text/plain": [
       "<Figure size 432x288 with 2 Axes>"
      ]
     },
     "metadata": {
      "needs_background": "light"
     },
     "output_type": "display_data"
    },
    {
     "name": "stdout",
     "output_type": "stream",
     "text": [
      "The macro F1 score for the trivial classifier is -  0.15156216651784743\n",
      "The accuracy for the trivial classifier is -  0.26380368098159507\n"
     ]
    }
   ],
   "source": [
    "Y_test_grades_pred = trivial_classifier(Y_train, X_test)\n",
    "get_cf_matrix(Y_test_grades_actual, Y_test_grades_pred) \n",
    "macro_f1_score = f1_score(Y_test_grades_actual, Y_test_grades_pred, average = 'macro')\n",
    "print(\"The macro F1 score for the trivial classifier is - \", macro_f1_score)\n",
    "accuracy = f1_score(Y_test_grades_actual, Y_test_grades_pred, average = 'micro')\n",
    "print(\"The accuracy for the trivial classifier is - \", accuracy)"
   ]
  },
  {
   "cell_type": "markdown",
   "metadata": {},
   "source": [
    "#### **Reference System - Nearest Means**"
   ]
  },
  {
   "cell_type": "code",
   "execution_count": 82,
   "metadata": {},
   "outputs": [
    {
     "data": {
      "image/png": "[encoded data removed]",
      "text/plain": [
       "<Figure size 432x288 with 2 Axes>"
      ]
     },
     "metadata": {
      "needs_background": "light"
     },
     "output_type": "display_data"
    },
    {
     "name": "stdout",
     "output_type": "stream",
     "text": [
      "The macro F1 score for the trivial classifier is -  0.3601491228070175\n",
      "The accuracy for the trivial classifier is -  0.36809815950920244\n"
     ]
    }
   ],
   "source": [
    "Y_test_grades_pred = nearestMeansClassifier(X_train, Y_train, X_test)\n",
    "get_cf_matrix(Y_test_grades_actual, Y_test_grades_pred)\n",
    "macro_f1_score = f1_score(Y_test_grades_actual, Y_test_grades_pred, average = 'macro')\n",
    "print(\"The macro F1 score for the trivial classifier is - \", macro_f1_score)\n",
    "accuracy = f1_score(Y_test_grades_actual, Y_test_grades_pred, average = 'micro')\n",
    "print(\"The accuracy for the trivial classifier is - \", accuracy)"
   ]
  },
  {
   "cell_type": "markdown",
   "metadata": {},
   "source": [
    "#### **Approach 1: K-Means Clustering**"
   ]
  },
  {
   "cell_type": "code",
   "execution_count": 83,
   "metadata": {},
   "outputs": [],
   "source": [
    "selected_columns = train_df.loc[:, ~train_df.columns.isin(['G1', 'G2', 'G3'])]\n",
    "binary_vals = pd.get_dummies(selected_columns)\n",
    "X_train = binary_vals.to_numpy()\n",
    "scaler = StandardScaler().fit(X_train)\n",
    "X_train_scaled = scaler.transform(X_train)"
   ]
  },
  {
   "cell_type": "code",
   "execution_count": 84,
   "metadata": {},
   "outputs": [],
   "source": [
    "test_df = pd.read_csv('data/student_performance_test.csv')\n",
    "selected_columns = test_df.loc[:, ~test_df.columns.isin(['G1', 'G2', 'G3'])]\n",
    "binary_vals = pd.get_dummies(selected_columns)\n",
    "X_test = binary_vals.to_numpy()\n",
    "scaler = StandardScaler().fit(X_test)\n",
    "X_test_scaled = scaler.transform(X_test)"
   ]
  },
  {
   "cell_type": "code",
   "execution_count": 85,
   "metadata": {},
   "outputs": [],
   "source": [
    "from sklearn.cluster import KMeans\n",
    "\n",
    "kmeans = KMeans(n_clusters=5, algorithm='elkan').fit(X_train_scaled, y_grades_train)\n",
    "Y_test_grades_pred = kmeans.predict(X_test_scaled)"
   ]
  },
  {
   "cell_type": "code",
   "execution_count": 86,
   "metadata": {},
   "outputs": [
    {
     "data": {
      "image/png": "[encoded data removed]",
      "text/plain": [
       "<Figure size 432x288 with 2 Axes>"
      ]
     },
     "metadata": {
      "needs_background": "light"
     },
     "output_type": "display_data"
    },
    {
     "name": "stdout",
     "output_type": "stream",
     "text": [
      "The macro F1 score for the trivial classifier is -  0.2092828353912098\n",
      "The accuracy for the trivial classifier is -  0.22085889570552147\n"
     ]
    }
   ],
   "source": [
    "get_cf_matrix(Y_test_grades_actual, Y_test_grades_pred)\n",
    "macro_f1_score = f1_score(Y_test_grades_actual, Y_test_grades_pred, average = 'macro')\n",
    "print(\"The macro F1 score for the trivial classifier is - \", macro_f1_score)\n",
    "accuracy = f1_score(Y_test_grades_actual, Y_test_grades_pred, average = 'micro')\n",
    "print(\"The accuracy for the trivial classifier is - \", accuracy)"
   ]
  },
  {
   "cell_type": "markdown",
   "metadata": {},
   "source": [
    "#### **Aproach 2 - Logistic Regression**\n",
    "Using cross-entropy loss for the traning algorithm, L2 regularization with dual formulation and saga solver."
   ]
  },
  {
   "cell_type": "code",
   "execution_count": 87,
   "metadata": {},
   "outputs": [],
   "source": [
    "selected_columns = train_df.loc[:, ~train_df.columns.isin(['G1', 'G2', 'G3'])]\n",
    "binary_vals = pd.get_dummies(selected_columns)\n",
    "X_train = binary_vals.to_numpy()\n",
    "scaler = StandardScaler().fit(X_train)\n",
    "X_train_scaled = scaler.transform(X_train)"
   ]
  },
  {
   "cell_type": "code",
   "execution_count": 88,
   "metadata": {},
   "outputs": [],
   "source": [
    "test_df = pd.read_csv('data/student_performance_test.csv')\n",
    "selected_columns = test_df.loc[:, ~test_df.columns.isin(['G1', 'G2', 'G3'])]\n",
    "binary_vals = pd.get_dummies(selected_columns)\n",
    "X_test = binary_vals.to_numpy()\n",
    "scaler = StandardScaler().fit(X_test)\n",
    "X_test_scaled = scaler.transform(X_test)"
   ]
  },
  {
   "cell_type": "code",
   "execution_count": 89,
   "metadata": {},
   "outputs": [],
   "source": [
    "from sklearn.linear_model import LogisticRegression\n",
    "\n",
    "clf = LogisticRegression(penalty='l2', random_state=0, solver='saga', max_iter= 500).fit(X_train_scaled, y_grades_train)\n",
    "Y_test_grades_pred = clf.predict(X_test_scaled)"
   ]
  },
  {
   "cell_type": "code",
   "execution_count": 90,
   "metadata": {},
   "outputs": [
    {
     "data": {
      "image/png": "[encoded data removed]",
      "text/plain": [
       "<Figure size 432x288 with 2 Axes>"
      ]
     },
     "metadata": {
      "needs_background": "light"
     },
     "output_type": "display_data"
    },
    {
     "name": "stdout",
     "output_type": "stream",
     "text": [
      "The macro F1 score for the trivial classifier is -  0.7995146382984941\n",
      "The accuracy for the trivial classifier is -  0.7914110429447851\n"
     ]
    }
   ],
   "source": [
    "get_cf_matrix(Y_test_grades_actual, Y_test_grades_pred)\n",
    "macro_f1_score = f1_score(Y_test_grades_actual, Y_test_grades_pred, average = 'macro')\n",
    "print(\"The macro F1 score for the trivial classifier is - \", macro_f1_score)\n",
    "accuracy = f1_score(Y_test_grades_actual, Y_test_grades_pred, average = 'micro')\n",
    "print(\"The accuracy for the trivial classifier is - \", accuracy)"
   ]
  },
  {
   "cell_type": "markdown",
   "metadata": {},
   "source": [
    "### **Problem 3**\n",
    "- Predict final academic performance using all available prior academic performance data: Keep G1 and G2 columns inside the dataset as features, then predict G3."
   ]
  },
  {
   "cell_type": "markdown",
   "metadata": {},
   "source": [
    "#### Removing categorical non-binary features."
   ]
  },
  {
   "cell_type": "code",
   "execution_count": 66,
   "metadata": {},
   "outputs": [],
   "source": [
    "selected_columns = train_df.loc[:, ~train_df.columns.isin(['Mjob', 'Fjob', 'reason', 'gaurdian', 'G3'])]\n",
    "binary_vals = pd.get_dummies(selected_columns)\n",
    "X_train = binary_vals.to_numpy() #Converting to numpy array for easier processing\n",
    "\n",
    "y_train = train_df.loc[:, train_df.columns.isin(['G3'])] #Getting corresponding labels\n",
    "Y_train = y_train['G3'].to_numpy()\n",
    "y_grades_train = list()\n",
    "for i in range(len(Y_train)):\n",
    "    y_grades_train.append(get_grade(Y_train[i]))\n",
    "y_grades_train = np.array(y_grades_train)"
   ]
  },
  {
   "cell_type": "markdown",
   "metadata": {},
   "source": [
    "#### Reading in test data and processing it"
   ]
  },
  {
   "cell_type": "code",
   "execution_count": 67,
   "metadata": {},
   "outputs": [],
   "source": [
    "test_df = pd.read_csv('data/student_performance_test.csv')\n",
    "selected_columns = test_df.loc[:, ~test_df.columns.isin(['Mjob', 'Fjob', 'reason', 'gaurdian', 'G3'])]\n",
    "binary_vals = pd.get_dummies(selected_columns)\n",
    "X_test = binary_vals.to_numpy() #Converting to numpy array for easier processing\n",
    "\n",
    "y_test = test_df.loc[:, test_df.columns.isin(['G3'])] #Getting corresponding labels\n",
    "Y_test = y_test['G3'].to_numpy()\n",
    "y_grades_test_actual = list()\n",
    "for i in range(len(Y_test)):\n",
    "    y_grades_test_actual.append(get_grade(Y_test[i]))\n",
    "Y_test_grades_actual = np.array(y_grades_test_actual)"
   ]
  },
  {
   "cell_type": "markdown",
   "metadata": {},
   "source": [
    "#### **Trivial System**"
   ]
  },
  {
   "cell_type": "code",
   "execution_count": 68,
   "metadata": {},
   "outputs": [
    {
     "data": {
      "image/png": "[encoded data removed]",
      "text/plain": [
       "<Figure size 432x288 with 2 Axes>"
      ]
     },
     "metadata": {
      "needs_background": "light"
     },
     "output_type": "display_data"
    },
    {
     "name": "stdout",
     "output_type": "stream",
     "text": [
      "The macro F1 score for the trivial classifier is -  0.12613391136801538\n",
      "The accuracy for the trivial classifier is -  0.25153374233128833\n"
     ]
    }
   ],
   "source": [
    "Y_test_grades_pred = trivial_classifier(Y_train, X_test)\n",
    "get_cf_matrix(Y_test_grades_actual, Y_test_grades_pred) \n",
    "macro_f1_score = f1_score(Y_test_grades_actual, Y_test_grades_pred, average = 'macro')\n",
    "print(\"The macro F1 score for the trivial classifier is - \", macro_f1_score)\n",
    "accuracy = f1_score(Y_test_grades_actual, Y_test_grades_pred, average = 'micro')\n",
    "print(\"The accuracy for the trivial classifier is - \", accuracy)"
   ]
  },
  {
   "cell_type": "markdown",
   "metadata": {},
   "source": [
    "#### **Reference System - Nearest Means**"
   ]
  },
  {
   "cell_type": "code",
   "execution_count": 69,
   "metadata": {},
   "outputs": [
    {
     "data": {
      "image/png": "[encoded data removed]",
      "text/plain": [
       "<Figure size 432x288 with 2 Axes>"
      ]
     },
     "metadata": {
      "needs_background": "light"
     },
     "output_type": "display_data"
    },
    {
     "name": "stdout",
     "output_type": "stream",
     "text": [
      "The macro F1 score for the trivial classifier is -  0.7349820799017304\n",
      "The accuracy for the trivial classifier is -  0.7116564417177914\n"
     ]
    }
   ],
   "source": [
    "Y_test_grades_pred = nearestMeansClassifier(X_train, Y_train, X_test)\n",
    "get_cf_matrix(Y_test_grades_actual, Y_test_grades_pred)\n",
    "macro_f1_score = f1_score(Y_test_grades_actual, Y_test_grades_pred, average = 'macro')\n",
    "print(\"The macro F1 score for the trivial classifier is - \", macro_f1_score)\n",
    "accuracy = f1_score(Y_test_grades_actual, Y_test_grades_pred, average = 'micro')\n",
    "print(\"The accuracy for the trivial classifier is - \", accuracy)"
   ]
  },
  {
   "cell_type": "code",
   "execution_count": 70,
   "metadata": {},
   "outputs": [],
   "source": [
    "selected_columns = train_df.loc[:, ~train_df.columns.isin(['G3'])]\n",
    "binary_vals = pd.get_dummies(selected_columns)\n",
    "X_train = binary_vals.to_numpy()\n",
    "scaler = StandardScaler().fit(X_train)\n",
    "X_train_scaled = scaler.transform(X_train)"
   ]
  },
  {
   "cell_type": "code",
   "execution_count": 71,
   "metadata": {},
   "outputs": [],
   "source": [
    "test_df = pd.read_csv('data/student_performance_test.csv')\n",
    "selected_columns = test_df.loc[:, ~test_df.columns.isin(['G3'])]\n",
    "binary_vals = pd.get_dummies(selected_columns)\n",
    "X_test = binary_vals.to_numpy()\n",
    "scaler = StandardScaler().fit(X_test)\n",
    "X_test_scaled = scaler.transform(X_test)"
   ]
  },
  {
   "cell_type": "code",
   "execution_count": 72,
   "metadata": {},
   "outputs": [],
   "source": [
    "from sklearn.cluster import KMeans\n",
    "\n",
    "kmeans = KMeans(n_clusters=5, algorithm='elkan').fit(X_train_scaled, y_grades_train)\n",
    "Y_test_grades_pred = kmeans.predict(X_test_scaled)"
   ]
  },
  {
   "cell_type": "code",
   "execution_count": 73,
   "metadata": {},
   "outputs": [
    {
     "data": {
      "image/png": "[encoded data removed]",
      "text/plain": [
       "<Figure size 432x288 with 2 Axes>"
      ]
     },
     "metadata": {
      "needs_background": "light"
     },
     "output_type": "display_data"
    },
    {
     "name": "stdout",
     "output_type": "stream",
     "text": [
      "The macro F1 score for the trivial classifier is -  0.12702855397770652\n",
      "The accuracy for the trivial classifier is -  0.147239263803681\n"
     ]
    }
   ],
   "source": [
    "get_cf_matrix(Y_test_grades_actual, Y_test_grades_pred)\n",
    "macro_f1_score = f1_score(Y_test_grades_actual, Y_test_grades_pred, average = 'macro')\n",
    "print(\"The macro F1 score for the trivial classifier is - \", macro_f1_score)\n",
    "accuracy = f1_score(Y_test_grades_actual, Y_test_grades_pred, average = 'micro')\n",
    "print(\"The accuracy for the trivial classifier is - \", accuracy)"
   ]
  },
  {
   "cell_type": "markdown",
   "metadata": {},
   "source": [
    "#### **Aproach 2 - Logistic Regression**\n",
    "Using cross-entropy loss for the traning algorithm, L2 regularization with dual formulation and saga solver."
   ]
  },
  {
   "cell_type": "code",
   "execution_count": 74,
   "metadata": {},
   "outputs": [],
   "source": [
    "selected_columns = train_df.loc[:, ~train_df.columns.isin(['G3'])]\n",
    "binary_vals = pd.get_dummies(selected_columns)\n",
    "X_train = binary_vals.to_numpy()\n",
    "scaler = StandardScaler().fit(X_train)\n",
    "X_train_scaled = scaler.transform(X_train)"
   ]
  },
  {
   "cell_type": "code",
   "execution_count": 75,
   "metadata": {},
   "outputs": [],
   "source": [
    "test_df = pd.read_csv('data/student_performance_test.csv')\n",
    "selected_columns = test_df.loc[:, ~test_df.columns.isin(['G3'])]\n",
    "binary_vals = pd.get_dummies(selected_columns)\n",
    "X_test = binary_vals.to_numpy()\n",
    "scaler = StandardScaler().fit(X_test)\n",
    "X_test_scaled = scaler.transform(X_test)"
   ]
  },
  {
   "cell_type": "code",
   "execution_count": 77,
   "metadata": {},
   "outputs": [],
   "source": [
    "from sklearn.linear_model import LogisticRegression\n",
    "\n",
    "clf = LogisticRegression(penalty='l2', random_state=0, solver='saga', max_iter= 500).fit(X_train_scaled, y_grades_train)\n",
    "Y_test_grades_pred = clf.predict(X_test_scaled)"
   ]
  },
  {
   "cell_type": "code",
   "execution_count": 78,
   "metadata": {},
   "outputs": [
    {
     "data": {
      "image/png": "[encoded data removed]",
      "text/plain": [
       "<Figure size 432x288 with 2 Axes>"
      ]
     },
     "metadata": {
      "needs_background": "light"
     },
     "output_type": "display_data"
    },
    {
     "name": "stdout",
     "output_type": "stream",
     "text": [
      "The macro F1 score for the trivial classifier is -  0.9726635974255021\n",
      "The accuracy for the trivial classifier is -  0.9693251533742331\n"
     ]
    }
   ],
   "source": [
    "get_cf_matrix(Y_test_grades_actual, Y_test_grades_pred)\n",
    "macro_f1_score = f1_score(Y_test_grades_actual, Y_test_grades_pred, average = 'macro')\n",
    "print(\"The macro F1 score for the trivial classifier is - \", macro_f1_score)\n",
    "accuracy = f1_score(Y_test_grades_actual, Y_test_grades_pred, average = 'micro')\n",
    "print(\"The accuracy for the trivial classifier is - \", accuracy)"
   ]
  },
  {
   "cell_type": "code",
   "execution_count": null,
   "metadata": {},
   "outputs": [],
   "source": []
  }
 ],
 "metadata": {
  "interpreter": {
   "hash": "849fb760454e438107ce71bdceab2dd01194c3c7b95734b9e2219345958538c7"
  },
  "kernelspec": {
   "display_name": "Python 3.9.6 ('dlvenv')",
   "language": "python",
   "name": "python3"
  },
  "language_info": {
   "codemirror_mode": {
    "name": "ipython",
    "version": 3
   },
   "file_extension": ".py",
   "mimetype": "text/x-python",
   "name": "python",
   "nbconvert_exporter": "python",
   "pygments_lexer": "ipython3",
   "version": "3.9.6"
  },
  "orig_nbformat": 4
 },
 "nbformat": 4,
 "nbformat_minor": 2
}

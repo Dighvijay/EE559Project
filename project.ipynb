{
 "cells": [
  {
   "cell_type": "markdown",
   "metadata": {},
   "source": [
    "# ***Student Perfromance Dataset / Classification***"
   ]
  },
  {
   "cell_type": "markdown",
   "metadata": {},
   "source": [
    "*Imports*"
   ]
  },
  {
   "cell_type": "code",
   "execution_count": 1,
   "metadata": {},
   "outputs": [],
   "source": [
    "from sklearn.preprocessing import StandardScaler\n",
    "from sklearn.neighbors import NearestCentroid\n",
    "from sklearn.neighbors import KNeighborsClassifier\n",
    "from sklearn.neural_network import MLPClassifier\n",
    "from sklearn.linear_model import LogisticRegression\n",
    "from sklearn.model_selection import GridSearchCV\n",
    "from sklearn.pipeline import Pipeline\n",
    "from sklearn.svm import SVC\n",
    "from sklearn.metrics import confusion_matrix\n",
    "from sklearn.metrics import f1_score\n",
    "import pandas as pd\n",
    "import numpy as np\n",
    "import matplotlib.pyplot as plt\n",
    "import random\n",
    "import seaborn as sns"
   ]
  },
  {
   "cell_type": "code",
   "execution_count": 2,
   "metadata": {},
   "outputs": [],
   "source": [
    "import warnings\n",
    "warnings.filterwarnings('ignore')"
   ]
  },
  {
   "cell_type": "markdown",
   "metadata": {},
   "source": [
    "*Functions*"
   ]
  },
  {
   "cell_type": "code",
   "execution_count": 3,
   "metadata": {},
   "outputs": [],
   "source": [
    "# Fucntion to convert scores to grades\n",
    "def get_grade(score): \n",
    "    if score <= 9:\n",
    "        grade = 0 #F\n",
    "    elif 10<=score<=11:\n",
    "        grade = 1 #D\n",
    "    elif 12<=score<=13:\n",
    "        grade = 2 #C\n",
    "    elif 14<=score<=15:\n",
    "        grade = 3 #B\n",
    "    elif score>=16:\n",
    "        grade = 4 #A\n",
    "    \n",
    "    return grade\n",
    "\n",
    "# Trivial classifier - randomly outputs class labels with probability based on class priors\n",
    "def trivial_classifier(Y_train, data):\n",
    "    y_grades_train = list()\n",
    "    for i in range(len(Y_train)):\n",
    "        y_grades_train.append(get_grade(Y_train[i]))\n",
    "    y_grades_train = np.array(y_grades_train)\n",
    "    weights = [np.count_nonzero(y_grades_train == 0)/len(Y_train)*100, np.count_nonzero(y_grades_train == 1)/len(Y_train)*100,\n",
    "    np.count_nonzero(y_grades_train == 2)/len(Y_train)*100, np.count_nonzero(y_grades_train == 3)/len(Y_train)*100,\n",
    "    np.count_nonzero(y_grades_train == 4)/len(Y_train)*100]\n",
    "    y_pred = list()\n",
    "    for i in range(len(data)):\n",
    "        pred_class = 0\n",
    "        for j in range(10):\n",
    "            gradelist = [0, 1, 2, 3, 4]\n",
    "            pred_class += random.choices(gradelist, weights=weights)[0]\n",
    "        y_pred.append(round(pred_class/10))\n",
    "    return np.array(y_pred)\n",
    "\n",
    "# Baseline Model - Nearest Means Classifier\n",
    "def nearestMeansClassifier(X_train, Y_train, X_test):\n",
    "    y_grades_train = list()\n",
    "    for i in range(len(Y_train)):\n",
    "        y_grades_train.append(get_grade(Y_train[i]))\n",
    "    y_grades_train = np.array(y_grades_train)\n",
    "    clf = NearestCentroid()\n",
    "    clf.fit(X_train, y_grades_train)\n",
    "    Y_test_grades_pred = np.zeros(len(X_test))\n",
    "    for i in range(len(X_test)):\n",
    "        Y_test_grades_pred[i] = clf.predict(X_test[i].reshape(1, -1))\n",
    "    \n",
    "    return Y_test_grades_pred\n",
    "\n",
    "# Performance Measures\n",
    "def get_performance(y, y_pred):\n",
    "    macro_f1_score = f1_score(y, y_pred, average = 'macro')\n",
    "    print(\"The macro F1 score for the classifier is - \", macro_f1_score)\n",
    "    accuracy = f1_score(y, y_pred, average = 'micro')\n",
    "    print(\"The accuracy for the classifier is - \", accuracy)\n",
    "    cf_matrix = confusion_matrix(y, y_pred)\n",
    "    labels = ['F', 'D', 'C', 'B', 'A']\n",
    "    ax = sns.heatmap(cf_matrix, annot=True)\n",
    "    ax.set_xticklabels(labels)\n",
    "    ax.set_yticklabels(labels)\n",
    "    plt.show()\n",
    "        "
   ]
  },
  {
   "cell_type": "code",
   "execution_count": 4,
   "metadata": {},
   "outputs": [],
   "source": [
    "def KNNClassifier(X, y, X_test, Y_test_actual):\n",
    "    params = {  \n",
    "                'n_neighbors'   :       [2,3,4,5],\n",
    "                'algorithm'     :       ['ball_tree', 'kd_tree', 'brute', 'auto'],\n",
    "                'leaf_size'     :       [ 10, 20, 30, 40, 50],\n",
    "                'weights'       :       ['uniform', 'distance']\n",
    "            } \n",
    "    neigh = KNeighborsClassifier()\n",
    "    clf = GridSearchCV(estimator=neigh, param_grid=params, cv=5)\n",
    "    clf.fit(X, y)\n",
    "    print('Best parameters from Cross Validation: ', clf.best_params_)\n",
    "    #print('\\n')\n",
    "    y_train_pred = clf.predict(X)\n",
    "    accuracy = f1_score(y, y_train_pred, average = 'micro')\n",
    "    print('Cross Validation Best Score', accuracy)\n",
    "    print('\\n')\n",
    "    Y_test_grades_pred = clf.predict(X_test)\n",
    "    get_performance(Y_test_actual, Y_test_grades_pred)\n",
    "\n",
    "def LogitClassifier(X, y, X_test, Y_test_actual):\n",
    "    params= {\n",
    "                'tol'   :   [1e-5, 0.5*1e-4, 1e-4, 2*1e-4, 1e-3],\n",
    "                'solver':   ['newton-cg', 'lbfgs', 'liblinear']\n",
    "            }\n",
    "    logreg = LogisticRegression(max_iter=100000)\n",
    "    clf = GridSearchCV(estimator=logreg, param_grid=params, cv=5)\n",
    "    clf.fit(X, y)\n",
    "    print('Best parameters from Cross Validation: ', clf.best_params_)\n",
    "    y_train_pred = clf.predict(X)\n",
    "    accuracy = f1_score(y, y_train_pred, average = 'micro')\n",
    "    print('Cross Validation Best Score', accuracy)\n",
    "    Y_test_grades_pred = clf.predict(X_test)\n",
    "    get_performance(Y_test_actual, Y_test_grades_pred)\n",
    "\n",
    "def KernelSVMClassifier(X, y, X_test, Y_test_actual):\n",
    "    params= {\n",
    "                'C'             :   [0.8, 0.9, 1.0, 1.1, 1.2],\n",
    "                'kernel'        :   ['linear', 'poly', 'rbf', 'sigmoid'],\n",
    "                'tol'           :   [1e-5, 1e-4, 1e-3],\n",
    "                'gamma'         :   ['scale', 'auto'],\n",
    "                'class_weight'  :   ['balanced', None]\n",
    "            }\n",
    "    svc = SVC()\n",
    "    clf = GridSearchCV(estimator=svc, param_grid=params, cv=5)\n",
    "    clf.fit(X, y)\n",
    "    print('Best parameters from Cross Validation: ', clf.best_params_)\n",
    "    y_train_pred = clf.predict(X)\n",
    "    accuracy = f1_score(y, y_train_pred, average = 'micro')\n",
    "    print('Cross Validation Best Score', accuracy)\n",
    "    Y_test_grades_pred = clf.predict(X_test)\n",
    "    get_performance(Y_test_actual, Y_test_grades_pred)\n",
    "\n",
    "def MLPerceptromClassifier(X, y, X_test, Y_test_actual):\n",
    "    params ={\n",
    "                'activation'            :   ['tanh', 'relu', 'identity', 'logistic'],\n",
    "                'solver'                :   ['sgd', 'adam', 'lbfgs'],\n",
    "                'alpha'                 :   [0.0001, 0.05],\n",
    "                'learning_rate'         :   ['constant','adaptive'],\n",
    "            }\n",
    "    mlp = MLPClassifier(random_state=1, max_iter=2000)\n",
    "    clf = GridSearchCV(estimator=mlp, param_grid=params, cv=5)\n",
    "    clf.fit(X, y)\n",
    "    print('Best parameters from Cross Validation: ', clf.best_params_)\n",
    "    print('Cross Validation Best Score', clf.best_score_)\n",
    "    Y_test_grades_pred = clf.predict(X_test)\n",
    "    get_performance(Y_test_actual, Y_test_grades_pred)\n",
    "    pass"
   ]
  },
  {
   "cell_type": "markdown",
   "metadata": {},
   "source": [
    "Read in the data"
   ]
  },
  {
   "cell_type": "code",
   "execution_count": 5,
   "metadata": {},
   "outputs": [],
   "source": [
    "train_df = pd.read_csv('data/student_performance_train.csv')\n",
    "#dataset_train = train_df.to_numpy()"
   ]
  },
  {
   "cell_type": "code",
   "execution_count": 6,
   "metadata": {},
   "outputs": [
    {
     "data": {
      "text/plain": [
       "Index(['school', 'sex', 'age', 'address', 'famsize', 'Pstatus', 'Medu', 'Fedu',\n",
       "       'Mjob', 'Fjob', 'reason', 'guardian', 'traveltime', 'studytime',\n",
       "       'failures', 'schoolsup', 'famsup', 'paid', 'activities', 'nursery',\n",
       "       'higher', 'internet', 'romantic', 'famrel', 'freetime', 'goout', 'Dalc',\n",
       "       'Walc', 'health', 'absences', 'G1', 'G2', 'G3'],\n",
       "      dtype='object')"
      ]
     },
     "execution_count": 6,
     "metadata": {},
     "output_type": "execute_result"
    }
   ],
   "source": [
    "train_df.columns"
   ]
  },
  {
   "cell_type": "markdown",
   "metadata": {},
   "source": [
    "## **Problem 1**\n",
    "- Predict first-period academic performance without any prior academic performance data: remove the G2 and G3 columns from the original dataset, then predict G1."
   ]
  },
  {
   "cell_type": "markdown",
   "metadata": {},
   "source": [
    "Removing categorical non-binary features and grades. "
   ]
  },
  {
   "cell_type": "code",
   "execution_count": 7,
   "metadata": {},
   "outputs": [],
   "source": [
    "selected_columns = train_df.loc[:, ~train_df.columns.isin(['Mjob', 'Fjob', 'reason', 'gaurdian', 'G1', 'G2', 'G3'])]\n",
    "binary_vals = pd.get_dummies(selected_columns)\n",
    "X_train = binary_vals.to_numpy() #Converting to numpy array for easier processing"
   ]
  },
  {
   "cell_type": "code",
   "execution_count": 8,
   "metadata": {},
   "outputs": [],
   "source": [
    "y_train = train_df.loc[:, train_df.columns.isin(['G1'])] \n",
    "Y_train = y_train['G1'].to_numpy()\n",
    "y_grades_train = list()\n",
    "for i in range(len(Y_train)):\n",
    "    y_grades_train.append(get_grade(Y_train[i]))\n",
    "y_grades_train = np.array(y_grades_train)"
   ]
  },
  {
   "cell_type": "markdown",
   "metadata": {},
   "source": [
    "Reading in test data and processing it"
   ]
  },
  {
   "cell_type": "code",
   "execution_count": 9,
   "metadata": {},
   "outputs": [],
   "source": [
    "test_df = pd.read_csv('data/student_performance_test.csv')\n",
    "selected_columns = test_df.loc[:, ~test_df.columns.isin(['Mjob', 'Fjob', 'reason', 'gaurdian', 'G1', 'G2', 'G3'])]\n",
    "binary_vals = pd.get_dummies(selected_columns)\n",
    "X_test = binary_vals.to_numpy()"
   ]
  },
  {
   "cell_type": "code",
   "execution_count": 10,
   "metadata": {},
   "outputs": [],
   "source": [
    "y_test = test_df.loc[:, test_df.columns.isin(['G1'])] #Rerun this cell to get back orginal values of Y_test\n",
    "Y_test = y_test['G1'].to_numpy()\n",
    "y_grades_test_actual = list()\n",
    "for i in range(len(Y_test)):\n",
    "    y_grades_test_actual.append(get_grade(Y_test[i]))\n",
    "Y_test_grades_actual = np.array(y_grades_test_actual)"
   ]
  },
  {
   "cell_type": "markdown",
   "metadata": {},
   "source": [
    "### **Trivial System**"
   ]
  },
  {
   "cell_type": "code",
   "execution_count": 11,
   "metadata": {},
   "outputs": [
    {
     "name": "stdout",
     "output_type": "stream",
     "text": [
      "The macro F1 score for the classifier is -  0.1511294694720537\n",
      "The accuracy for the classifier is -  0.2883435582822086\n"
     ]
    },
    {
     "data": {
      "image/png": "[encoded data removed]",
      "text/plain": [
       "<Figure size 432x288 with 2 Axes>"
      ]
     },
     "metadata": {
      "needs_background": "light"
     },
     "output_type": "display_data"
    }
   ],
   "source": [
    "Y_test_grades_pred = trivial_classifier(Y_train, X_test)\n",
    "get_performance(Y_test_grades_actual, Y_test_grades_pred) "
   ]
  },
  {
   "cell_type": "markdown",
   "metadata": {},
   "source": [
    "### **Reference System - Nearest Means**"
   ]
  },
  {
   "cell_type": "code",
   "execution_count": 12,
   "metadata": {},
   "outputs": [
    {
     "name": "stdout",
     "output_type": "stream",
     "text": [
      "The macro F1 score for the classifier is -  0.2339098179522256\n",
      "The accuracy for the classifier is -  0.245398773006135\n"
     ]
    },
    {
     "data": {
      "image/png": "[encoded data removed]",
      "text/plain": [
       "<Figure size 432x288 with 2 Axes>"
      ]
     },
     "metadata": {
      "needs_background": "light"
     },
     "output_type": "display_data"
    }
   ],
   "source": [
    "Y_test_grades_pred = nearestMeansClassifier(X_train, Y_train, X_test)\n",
    "get_performance(Y_test_grades_actual, Y_test_grades_pred)"
   ]
  },
  {
   "cell_type": "markdown",
   "metadata": {},
   "source": [
    "Normalizing Data and encoding categorical data"
   ]
  },
  {
   "cell_type": "code",
   "execution_count": 13,
   "metadata": {},
   "outputs": [],
   "source": [
    "selected_columns = train_df.loc[:, ~train_df.columns.isin(['G1', 'G2', 'G3'])]\n",
    "binary_vals = pd.get_dummies(selected_columns)\n",
    "X_train = binary_vals.to_numpy()\n",
    "pipe = Pipeline([('scale', StandardScaler())])\n",
    "X_train_scaled = pipe.fit_transform(X_train)"
   ]
  },
  {
   "cell_type": "code",
   "execution_count": 14,
   "metadata": {},
   "outputs": [],
   "source": [
    "test_df = pd.read_csv('data/student_performance_test.csv')\n",
    "selected_columns = test_df.loc[:, ~test_df.columns.isin(['G1', 'G2', 'G3'])]\n",
    "binary_vals = pd.get_dummies(selected_columns)\n",
    "X_test = binary_vals.to_numpy()\n",
    "pipe = Pipeline([('scale', StandardScaler())])\n",
    "X_test_scaled = pipe.fit_transform(X_test)"
   ]
  },
  {
   "cell_type": "markdown",
   "metadata": {},
   "source": [
    "### **Approach 1: K Nearest Neighbors**"
   ]
  },
  {
   "cell_type": "code",
   "execution_count": 15,
   "metadata": {},
   "outputs": [
    {
     "name": "stdout",
     "output_type": "stream",
     "text": [
      "Best parameters from Cross Validation:  {'algorithm': 'ball_tree', 'leaf_size': 10, 'n_neighbors': 5, 'weights': 'uniform'}\n",
      "Cross Validation Best Score 0.5390946502057613\n",
      "\n",
      "\n",
      "The macro F1 score for the classifier is -  0.2555260509888779\n",
      "The accuracy for the classifier is -  0.3312883435582822\n"
     ]
    },
    {
     "data": {
      "image/png": "[encoded data removed]",
      "text/plain": [
       "<Figure size 432x288 with 2 Axes>"
      ]
     },
     "metadata": {
      "needs_background": "light"
     },
     "output_type": "display_data"
    }
   ],
   "source": [
    "KNNClassifier(X_train_scaled, y_grades_train, X_test_scaled, y_grades_test_actual)"
   ]
  },
  {
   "cell_type": "markdown",
   "metadata": {},
   "source": [
    "### **Aproach 2 - Logistic Regression**\n"
   ]
  },
  {
   "cell_type": "code",
   "execution_count": 16,
   "metadata": {},
   "outputs": [
    {
     "name": "stdout",
     "output_type": "stream",
     "text": [
      "Best parameters from Cross Validation:  {'solver': 'liblinear', 'tol': 1e-05}\n",
      "Cross Validation Best Score 0.5\n",
      "The macro F1 score for the classifier is -  0.2662989050348655\n",
      "The accuracy for the classifier is -  0.31901840490797545\n"
     ]
    },
    {
     "data": {
      "image/png": "[encoded data removed]",
      "text/plain": [
       "<Figure size 432x288 with 2 Axes>"
      ]
     },
     "metadata": {
      "needs_background": "light"
     },
     "output_type": "display_data"
    }
   ],
   "source": [
    "LogitClassifier(X_train_scaled, y_grades_train, X_test_scaled, y_grades_test_actual)"
   ]
  },
  {
   "cell_type": "markdown",
   "metadata": {},
   "source": [
    "### **Approach 3 - Kernel Support Vector Machine**"
   ]
  },
  {
   "cell_type": "code",
   "execution_count": 17,
   "metadata": {},
   "outputs": [
    {
     "name": "stdout",
     "output_type": "stream",
     "text": [
      "Best parameters from Cross Validation:  {'C': 1.2, 'class_weight': None, 'gamma': 'scale', 'kernel': 'rbf', 'tol': 1e-05}\n",
      "Cross Validation Best Score 0.8086419753086419\n",
      "The macro F1 score for the classifier is -  0.29536184623102973\n",
      "The accuracy for the classifier is -  0.3803680981595092\n"
     ]
    },
    {
     "data": {
      "image/png": "[encoded data removed]",
      "text/plain": [
       "<Figure size 432x288 with 2 Axes>"
      ]
     },
     "metadata": {
      "needs_background": "light"
     },
     "output_type": "display_data"
    }
   ],
   "source": [
    "KernelSVMClassifier(X_train_scaled, y_grades_train, X_test_scaled, y_grades_test_actual)"
   ]
  },
  {
   "cell_type": "markdown",
   "metadata": {},
   "source": [
    "### **Approach 4 - Multi-Layer Perceptron**"
   ]
  },
  {
   "cell_type": "code",
   "execution_count": 18,
   "metadata": {},
   "outputs": [
    {
     "name": "stdout",
     "output_type": "stream",
     "text": [
      "Best parameters from Cross Validation:  {'activation': 'logistic', 'alpha': 0.05, 'learning_rate': 'constant', 'solver': 'sgd'}\n",
      "Cross Validation Best Score 0.3560067325899432\n",
      "The macro F1 score for the classifier is -  0.27350277460658046\n",
      "The accuracy for the classifier is -  0.34355828220858897\n"
     ]
    },
    {
     "data": {
      "image/png": "[encoded data removed]",
      "text/plain": [
       "<Figure size 432x288 with 2 Axes>"
      ]
     },
     "metadata": {
      "needs_background": "light"
     },
     "output_type": "display_data"
    }
   ],
   "source": [
    "MLPerceptromClassifier(X_train_scaled, y_grades_train, X_test_scaled, y_grades_test_actual)"
   ]
  },
  {
   "cell_type": "markdown",
   "metadata": {},
   "source": [
    "## **Problem 2**\n",
    "- Predict final-period academic performance without any prior academic performance data: remove the G1 and G2 columns from the original dataset, then predict G3."
   ]
  },
  {
   "cell_type": "markdown",
   "metadata": {},
   "source": [
    "Removing categorical non-binary features and grades. "
   ]
  },
  {
   "cell_type": "code",
   "execution_count": 19,
   "metadata": {},
   "outputs": [],
   "source": [
    "selected_columns = train_df.loc[:, ~train_df.columns.isin(['Mjob', 'Fjob', 'reason', 'gaurdian', 'G1', 'G2', 'G3'])]\n",
    "binary_vals = pd.get_dummies(selected_columns)\n",
    "X_train = binary_vals.to_numpy() #Converting to numpy array for easier processing\n",
    "\n",
    "y_train = train_df.loc[:, train_df.columns.isin(['G3'])] #Getting corresponding labels\n",
    "Y_train = y_train['G3'].to_numpy()\n",
    "y_grades_train = list()\n",
    "for i in range(len(Y_train)):\n",
    "    y_grades_train.append(get_grade(Y_train[i]))\n",
    "y_grades_train = np.array(y_grades_train)"
   ]
  },
  {
   "cell_type": "markdown",
   "metadata": {},
   "source": [
    "Reading in test data and processing it"
   ]
  },
  {
   "cell_type": "code",
   "execution_count": 20,
   "metadata": {},
   "outputs": [],
   "source": [
    "test_df = pd.read_csv('data/student_performance_test.csv')\n",
    "selected_columns = test_df.loc[:, ~test_df.columns.isin(['Mjob', 'Fjob', 'reason', 'gaurdian', 'G1', 'G2', 'G3'])]\n",
    "binary_vals = pd.get_dummies(selected_columns)\n",
    "X_test = binary_vals.to_numpy() #Converting to numpy array for easier processing\n",
    "\n",
    "y_test = test_df.loc[:, test_df.columns.isin(['G3'])] #Getting corresponding labels\n",
    "Y_test = y_test['G3'].to_numpy()\n",
    "y_grades_test_actual = list()\n",
    "for i in range(len(Y_test)):\n",
    "    y_grades_test_actual.append(get_grade(Y_test[i]))\n",
    "Y_test_grades_actual = np.array(y_grades_test_actual)"
   ]
  },
  {
   "cell_type": "markdown",
   "metadata": {},
   "source": [
    "### **Trivial System**"
   ]
  },
  {
   "cell_type": "code",
   "execution_count": 21,
   "metadata": {},
   "outputs": [
    {
     "name": "stdout",
     "output_type": "stream",
     "text": [
      "The macro F1 score for the classifier is -  0.16115332513972497\n",
      "The accuracy for the classifier is -  0.2883435582822086\n"
     ]
    },
    {
     "data": {
      "image/png": "[encoded data removed]",
      "text/plain": [
       "<Figure size 432x288 with 2 Axes>"
      ]
     },
     "metadata": {
      "needs_background": "light"
     },
     "output_type": "display_data"
    }
   ],
   "source": [
    "Y_test_grades_pred = trivial_classifier(Y_train, X_test)\n",
    "get_performance(Y_test_grades_actual, Y_test_grades_pred) "
   ]
  },
  {
   "cell_type": "markdown",
   "metadata": {},
   "source": [
    "### **Reference System - Nearest Means**"
   ]
  },
  {
   "cell_type": "code",
   "execution_count": 22,
   "metadata": {},
   "outputs": [
    {
     "name": "stdout",
     "output_type": "stream",
     "text": [
      "The macro F1 score for the classifier is -  0.25040487766154157\n",
      "The accuracy for the classifier is -  0.26380368098159507\n"
     ]
    },
    {
     "data": {
      "image/png": "[encoded data removed]",
      "text/plain": [
       "<Figure size 432x288 with 2 Axes>"
      ]
     },
     "metadata": {
      "needs_background": "light"
     },
     "output_type": "display_data"
    }
   ],
   "source": [
    "Y_test_grades_pred = nearestMeansClassifier(X_train, Y_train, X_test)\n",
    "get_performance(Y_test_grades_actual, Y_test_grades_pred)"
   ]
  },
  {
   "cell_type": "markdown",
   "metadata": {},
   "source": [
    "### **Approach 1: K Nearest Neighbors**"
   ]
  },
  {
   "cell_type": "code",
   "execution_count": 23,
   "metadata": {},
   "outputs": [
    {
     "name": "stdout",
     "output_type": "stream",
     "text": [
      "Best parameters from Cross Validation:  {'algorithm': 'ball_tree', 'leaf_size': 10, 'n_neighbors': 3, 'weights': 'uniform'}\n",
      "Cross Validation Best Score 0.6049382716049383\n",
      "\n",
      "\n",
      "The macro F1 score for the classifier is -  0.3245536127709303\n",
      "The accuracy for the classifier is -  0.3619631901840491\n"
     ]
    },
    {
     "data": {
      "image/png": "[encoded data removed]",
      "text/plain": [
       "<Figure size 432x288 with 2 Axes>"
      ]
     },
     "metadata": {
      "needs_background": "light"
     },
     "output_type": "display_data"
    }
   ],
   "source": [
    "KNNClassifier(X_train_scaled, y_grades_train, X_test_scaled, y_grades_test_actual)"
   ]
  },
  {
   "cell_type": "markdown",
   "metadata": {},
   "source": [
    "### **Aproach 2 - Logistic Regression**"
   ]
  },
  {
   "cell_type": "code",
   "execution_count": 24,
   "metadata": {},
   "outputs": [
    {
     "name": "stdout",
     "output_type": "stream",
     "text": [
      "Best parameters from Cross Validation:  {'solver': 'liblinear', 'tol': 1e-05}\n",
      "Cross Validation Best Score 0.5102880658436214\n",
      "The macro F1 score for the classifier is -  0.3159904678197361\n",
      "The accuracy for the classifier is -  0.3374233128834356\n"
     ]
    },
    {
     "data": {
      "image/png": "[encoded data removed]",
      "text/plain": [
       "<Figure size 432x288 with 2 Axes>"
      ]
     },
     "metadata": {
      "needs_background": "light"
     },
     "output_type": "display_data"
    }
   ],
   "source": [
    "LogitClassifier(X_train_scaled, y_grades_train, X_test_scaled, y_grades_test_actual)"
   ]
  },
  {
   "cell_type": "markdown",
   "metadata": {},
   "source": [
    "### **Approach 3 - Kernel Support Vector Machine**\n"
   ]
  },
  {
   "cell_type": "code",
   "execution_count": 25,
   "metadata": {},
   "outputs": [
    {
     "name": "stdout",
     "output_type": "stream",
     "text": [
      "Best parameters from Cross Validation:  {'C': 1.0, 'class_weight': 'balanced', 'gamma': 'scale', 'kernel': 'rbf', 'tol': 1e-05}\n",
      "Cross Validation Best Score 0.8065843621399177\n",
      "The macro F1 score for the classifier is -  0.3444695272837712\n",
      "The accuracy for the classifier is -  0.3496932515337423\n"
     ]
    },
    {
     "data": {
      "image/png": "[encoded data removed]",
      "text/plain": [
       "<Figure size 432x288 with 2 Axes>"
      ]
     },
     "metadata": {
      "needs_background": "light"
     },
     "output_type": "display_data"
    }
   ],
   "source": [
    "KernelSVMClassifier(X_train_scaled, y_grades_train, X_test_scaled, y_grades_test_actual)"
   ]
  },
  {
   "cell_type": "markdown",
   "metadata": {},
   "source": [
    "### **Approach 4 - Multi Layer Perceptron**"
   ]
  },
  {
   "cell_type": "code",
   "execution_count": 26,
   "metadata": {},
   "outputs": [
    {
     "name": "stdout",
     "output_type": "stream",
     "text": [
      "Best parameters from Cross Validation:  {'activation': 'relu', 'alpha': 0.0001, 'learning_rate': 'constant', 'solver': 'adam'}\n",
      "Cross Validation Best Score 0.3496949295181991\n",
      "The macro F1 score for the classifier is -  0.339720311316846\n",
      "The accuracy for the classifier is -  0.34355828220858897\n"
     ]
    },
    {
     "data": {
      "image/png": "[encoded data removed]",
      "text/plain": [
       "<Figure size 432x288 with 2 Axes>"
      ]
     },
     "metadata": {
      "needs_background": "light"
     },
     "output_type": "display_data"
    }
   ],
   "source": [
    "MLPerceptromClassifier(X_train_scaled, y_grades_train, X_test_scaled, y_grades_test_actual)"
   ]
  },
  {
   "cell_type": "markdown",
   "metadata": {},
   "source": [
    "## **Problem 3**\n",
    "- Predict final academic performance using all available prior academic performance data: Keep G1 and G2 columns inside the dataset as features, then predict G3."
   ]
  },
  {
   "cell_type": "markdown",
   "metadata": {},
   "source": [
    "Removing categorical non-binary features."
   ]
  },
  {
   "cell_type": "code",
   "execution_count": 27,
   "metadata": {},
   "outputs": [],
   "source": [
    "selected_columns = train_df.loc[:, ~train_df.columns.isin(['Mjob', 'Fjob', 'reason', 'gaurdian', 'G3'])]\n",
    "binary_vals = pd.get_dummies(selected_columns)\n",
    "X_train = binary_vals.to_numpy() #Converting to numpy array for easier processing\n",
    "\n",
    "y_train = train_df.loc[:, train_df.columns.isin(['G3'])] #Getting corresponding labels\n",
    "Y_train = y_train['G3'].to_numpy()\n",
    "y_grades_train = list()\n",
    "for i in range(len(Y_train)):\n",
    "    y_grades_train.append(get_grade(Y_train[i]))\n",
    "y_grades_train = np.array(y_grades_train)"
   ]
  },
  {
   "cell_type": "markdown",
   "metadata": {},
   "source": [
    "Reading in test data and processing it"
   ]
  },
  {
   "cell_type": "code",
   "execution_count": 28,
   "metadata": {},
   "outputs": [],
   "source": [
    "test_df = pd.read_csv('data/student_performance_test.csv')\n",
    "selected_columns = test_df.loc[:, ~test_df.columns.isin(['Mjob', 'Fjob', 'reason', 'gaurdian', 'G3'])]\n",
    "binary_vals = pd.get_dummies(selected_columns)\n",
    "X_test = binary_vals.to_numpy() #Converting to numpy array for easier processing\n",
    "\n",
    "y_test = test_df.loc[:, test_df.columns.isin(['G3'])] #Getting corresponding labels\n",
    "Y_test = y_test['G3'].to_numpy()\n",
    "y_grades_test_actual = list()\n",
    "for i in range(len(Y_test)):\n",
    "    y_grades_test_actual.append(get_grade(Y_test[i]))\n",
    "Y_test_grades_actual = np.array(y_grades_test_actual)"
   ]
  },
  {
   "cell_type": "markdown",
   "metadata": {},
   "source": [
    "### **Trivial System**"
   ]
  },
  {
   "cell_type": "code",
   "execution_count": 29,
   "metadata": {},
   "outputs": [
    {
     "name": "stdout",
     "output_type": "stream",
     "text": [
      "The macro F1 score for the classifier is -  0.1182763337893297\n",
      "The accuracy for the classifier is -  0.2147239263803681\n"
     ]
    },
    {
     "data": {
      "image/png": "[encoded data removed]",
      "text/plain": [
       "<Figure size 432x288 with 2 Axes>"
      ]
     },
     "metadata": {
      "needs_background": "light"
     },
     "output_type": "display_data"
    }
   ],
   "source": [
    "Y_test_grades_pred = trivial_classifier(Y_train, X_test)\n",
    "get_performance(Y_test_grades_actual, Y_test_grades_pred) "
   ]
  },
  {
   "cell_type": "markdown",
   "metadata": {},
   "source": [
    "### **Reference System - Nearest Means**"
   ]
  },
  {
   "cell_type": "code",
   "execution_count": 30,
   "metadata": {},
   "outputs": [
    {
     "name": "stdout",
     "output_type": "stream",
     "text": [
      "The macro F1 score for the classifier is -  0.6150584274113686\n",
      "The accuracy for the classifier is -  0.6012269938650306\n"
     ]
    },
    {
     "data": {
      "image/png": "[encoded data removed]",
      "text/plain": [
       "<Figure size 432x288 with 2 Axes>"
      ]
     },
     "metadata": {
      "needs_background": "light"
     },
     "output_type": "display_data"
    }
   ],
   "source": [
    "Y_test_grades_pred = nearestMeansClassifier(X_train, Y_train, X_test)\n",
    "get_performance(Y_test_grades_actual, Y_test_grades_pred)"
   ]
  },
  {
   "cell_type": "markdown",
   "metadata": {},
   "source": [
    "Normalizing data and encoding categorical data"
   ]
  },
  {
   "cell_type": "code",
   "execution_count": 31,
   "metadata": {},
   "outputs": [],
   "source": [
    "selected_columns = train_df.loc[:, ~train_df.columns.isin(['G3'])]\n",
    "binary_vals = pd.get_dummies(selected_columns)\n",
    "X_train = binary_vals.to_numpy()\n",
    "pipe = Pipeline([('scale', StandardScaler())])\n",
    "X_train_scaled = pipe.fit_transform(X_train)"
   ]
  },
  {
   "cell_type": "code",
   "execution_count": 32,
   "metadata": {},
   "outputs": [],
   "source": [
    "test_df = pd.read_csv('data/student_performance_test.csv')\n",
    "selected_columns = test_df.loc[:, ~test_df.columns.isin(['G3'])]\n",
    "binary_vals = pd.get_dummies(selected_columns)\n",
    "X_test = binary_vals.to_numpy()\n",
    "pipe = Pipeline([('scale', StandardScaler())])\n",
    "X_test_scaled = pipe.fit_transform(X_test)"
   ]
  },
  {
   "cell_type": "markdown",
   "metadata": {},
   "source": [
    "### **Approach 1: K Nearest Neighbors**"
   ]
  },
  {
   "cell_type": "code",
   "execution_count": 33,
   "metadata": {},
   "outputs": [
    {
     "name": "stdout",
     "output_type": "stream",
     "text": [
      "Best parameters from Cross Validation:  {'algorithm': 'ball_tree', 'leaf_size': 10, 'n_neighbors': 5, 'weights': 'uniform'}\n",
      "Cross Validation Best Score 0.6069958847736625\n",
      "\n",
      "\n",
      "The macro F1 score for the classifier is -  0.3943313305498517\n",
      "The accuracy for the classifier is -  0.4049079754601227\n"
     ]
    },
    {
     "data": {
      "image/png": "[encoded data removed]",
      "text/plain": [
       "<Figure size 432x288 with 2 Axes>"
      ]
     },
     "metadata": {
      "needs_background": "light"
     },
     "output_type": "display_data"
    }
   ],
   "source": [
    "KNNClassifier(X_train_scaled, y_grades_train, X_test_scaled, y_grades_test_actual)"
   ]
  },
  {
   "cell_type": "markdown",
   "metadata": {},
   "source": [
    "### **Aproach 2 - Logistic Regression**"
   ]
  },
  {
   "cell_type": "code",
   "execution_count": 34,
   "metadata": {},
   "outputs": [
    {
     "name": "stdout",
     "output_type": "stream",
     "text": [
      "Best parameters from Cross Validation:  {'solver': 'newton-cg', 'tol': 1e-05}\n",
      "Cross Validation Best Score 0.8045267489711934\n",
      "The macro F1 score for the classifier is -  0.7222694026818367\n",
      "The accuracy for the classifier is -  0.7361963190184049\n"
     ]
    },
    {
     "data": {
      "image/png": "[encoded data removed]",
      "text/plain": [
       "<Figure size 432x288 with 2 Axes>"
      ]
     },
     "metadata": {
      "needs_background": "light"
     },
     "output_type": "display_data"
    }
   ],
   "source": [
    "LogitClassifier(X_train_scaled, y_grades_train, X_test_scaled, y_grades_test_actual)"
   ]
  },
  {
   "cell_type": "markdown",
   "metadata": {},
   "source": [
    "### **Approach 3 - Kernel Support Vector Machine**\n"
   ]
  },
  {
   "cell_type": "code",
   "execution_count": 35,
   "metadata": {},
   "outputs": [
    {
     "name": "stdout",
     "output_type": "stream",
     "text": [
      "Best parameters from Cross Validation:  {'C': 1.2, 'class_weight': None, 'gamma': 'scale', 'kernel': 'linear', 'tol': 1e-05}\n",
      "Cross Validation Best Score 0.8559670781893005\n",
      "The macro F1 score for the classifier is -  0.707249254649567\n",
      "The accuracy for the classifier is -  0.7239263803680982\n"
     ]
    },
    {
     "data": {
      "image/png": "[encoded data removed]",
      "text/plain": [
       "<Figure size 432x288 with 2 Axes>"
      ]
     },
     "metadata": {
      "needs_background": "light"
     },
     "output_type": "display_data"
    }
   ],
   "source": [
    "KernelSVMClassifier(X_train_scaled, y_grades_train, X_test_scaled, y_grades_test_actual)"
   ]
  },
  {
   "cell_type": "markdown",
   "metadata": {},
   "source": [
    "### **Approach 4 - Multi Layer Perceptron**"
   ]
  },
  {
   "cell_type": "code",
   "execution_count": 36,
   "metadata": {},
   "outputs": [
    {
     "name": "stdout",
     "output_type": "stream",
     "text": [
      "Best parameters from Cross Validation:  {'activation': 'relu', 'alpha': 0.0001, 'learning_rate': 'constant', 'solver': 'lbfgs'}\n",
      "Cross Validation Best Score 0.615190406059331\n",
      "The macro F1 score for the classifier is -  0.6325642922845869\n",
      "The accuracy for the classifier is -  0.6257668711656442\n"
     ]
    },
    {
     "data": {
      "image/png": "[encoded data removed]",
      "text/plain": [
       "<Figure size 432x288 with 2 Axes>"
      ]
     },
     "metadata": {
      "needs_background": "light"
     },
     "output_type": "display_data"
    }
   ],
   "source": [
    "MLPerceptromClassifier(X_train_scaled, y_grades_train, X_test_scaled, y_grades_test_actual)"
   ]
  }
 ],
 "metadata": {
  "interpreter": {
   "hash": "849fb760454e438107ce71bdceab2dd01194c3c7b95734b9e2219345958538c7"
  },
  "kernelspec": {
   "display_name": "Python 3 (ipykernel)",
   "language": "python",
   "name": "python3"
  },
  "language_info": {
   "codemirror_mode": {
    "name": "ipython",
    "version": 3
   },
   "file_extension": ".py",
   "mimetype": "text/x-python",
   "name": "python",
   "nbconvert_exporter": "python",
   "pygments_lexer": "ipython3",
   "version": "3.9.6"
  }
 },
 "nbformat": 4,
 "nbformat_minor": 2
}
